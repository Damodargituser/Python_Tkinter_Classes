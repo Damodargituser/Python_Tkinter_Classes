{
 "cells": [
  {
   "cell_type": "code",
   "execution_count": null,
   "metadata": {},
   "outputs": [],
   "source": [
    "# import tkinter as tk\n",
    "# root = tk.Tk()\n",
    "\n",
    "from tkinter import Tk\n",
    "\n",
    "root = Tk()\n",
    "\n",
    "\n",
    "root.mainloop()\n"
   ]
  },
  {
   "cell_type": "code",
   "execution_count": 7,
   "metadata": {},
   "outputs": [],
   "source": [
    "import tkinter as tk #import the module\n",
    "\n",
    "root = tk.Tk()#created an instance\n",
    "\n",
    "message = tk.Label(root, text='Hello World!') #it will create the text \n",
    "message.pack()#passing the text inside the window\n",
    "root.mainloop()\n"
   ]
  },
  {
   "cell_type": "markdown",
   "metadata": {},
   "source": [
    "remove the blur of the text"
   ]
  },
  {
   "cell_type": "code",
   "execution_count": null,
   "metadata": {},
   "outputs": [],
   "source": [
    "import tkinter as tk  # import the module\n",
    "from ctypes import windll\n",
    "\n",
    "root = tk.Tk()  # created an instance\n",
    "\n",
    "message = tk.Label(root, text='Hello World!')  # it will create the text\n",
    "message.pack()  # passing the text inside the window\n",
    "\n",
    "try:\n",
    "    windll.shcore.SetProcessDpiAwareness(1)\n",
    "finally:\n",
    "    root.mainloop()\n",
    "\n"
   ]
  }
 ],
 "metadata": {
  "kernelspec": {
   "display_name": "Python 3.10.8 64-bit (microsoft store)",
   "language": "python",
   "name": "python3"
  },
  "language_info": {
   "codemirror_mode": {
    "name": "ipython",
    "version": 3
   },
   "file_extension": ".py",
   "mimetype": "text/x-python",
   "name": "python",
   "nbconvert_exporter": "python",
   "pygments_lexer": "ipython3",
   "version": "3.10.8"
  },
  "orig_nbformat": 4,
  "vscode": {
   "interpreter": {
    "hash": "ac3182ad4c35c580596c20aedb86fbe87b27a45ae94eff4fc998135852ab9989"
   }
  }
 },
 "nbformat": 4,
 "nbformat_minor": 2
}
