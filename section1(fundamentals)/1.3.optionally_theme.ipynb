{
 "cells": [
  {
   "cell_type": "markdown",
   "metadata": {},
   "source": [
    "option-1"
   ]
  },
  {
   "cell_type": "code",
   "execution_count": null,
   "metadata": {},
   "outputs": [],
   "source": [
    "import tkinter as tk  # import the module\n",
    "from tkinter import ttk\n",
    "from ctypes import windll\n",
    "\n",
    "root = tk.Tk()  # created an instance\n",
    "\n",
    "message = ttk.Label(root, text='Hello World!')  # it will create the text\n",
    "message.pack()\n",
    "try:\n",
    "    windll.shcore.SetProcessDpiAwareness(1)\n",
    "finally:\n",
    "    root.mainloop()"
   ]
  },
  {
   "cell_type": "markdown",
   "metadata": {},
   "source": [
    "option-2 (Keyword Argument)"
   ]
  },
  {
   "cell_type": "code",
   "execution_count": 1,
   "metadata": {},
   "outputs": [],
   "source": [
    "import tkinter as tk  # import the module\n",
    "from tkinter import ttk\n",
    "from ctypes import windll\n",
    "\n",
    "root = tk.Tk()  # created an instance\n",
    "\n",
    "message = ttk.Label(root, text='Hello World!').pack()  # it will create the text\n",
    "\n",
    "try:\n",
    "    windll.shcore.SetProcessDpiAwareness(1)\n",
    "finally:\n",
    "    root.mainloop()"
   ]
  },
  {
   "cell_type": "markdown",
   "metadata": {},
   "source": [
    "Option-3 (Using a dictionary index after widget creation)\n"
   ]
  },
  {
   "cell_type": "code",
   "execution_count": 2,
   "metadata": {},
   "outputs": [],
   "source": [
    "import tkinter as tk  # import the module\n",
    "from tkinter import ttk\n",
    "from ctypes import windll\n",
    "\n",
    "root = tk.Tk()  # created an instance\n",
    "label = ttk.Label(root)\n",
    "label['text'] = 'Hi, there'\n",
    "label.pack()\n",
    "\n",
    "\n",
    "try:\n",
    "    windll.shcore.SetProcessDpiAwareness(1)\n",
    "finally:\n",
    "    root.mainloop()"
   ]
  },
  {
   "cell_type": "markdown",
   "metadata": {},
   "source": [
    "option-4 (Using the config() method with keyword attributes)"
   ]
  },
  {
   "cell_type": "code",
   "execution_count": 3,
   "metadata": {},
   "outputs": [],
   "source": [
    "import tkinter as tk  # import the module\n",
    "from tkinter import ttk\n",
    "from ctypes import windll\n",
    "\n",
    "root = tk.Tk()  # created an instance\n",
    "\n",
    "label = ttk.Label(root)\n",
    "label.config(text='Hi, there')\n",
    "label.pack()\n",
    "\n",
    "try:\n",
    "    windll.shcore.SetProcessDpiAwareness(1)\n",
    "finally:\n",
    "    root.mainloop()"
   ]
  }
 ],
 "metadata": {
  "kernelspec": {
   "display_name": "Python 3.10.8 64-bit (microsoft store)",
   "language": "python",
   "name": "python3"
  },
  "language_info": {
   "codemirror_mode": {
    "name": "ipython",
    "version": 3
   },
   "file_extension": ".py",
   "mimetype": "text/x-python",
   "name": "python",
   "nbconvert_exporter": "python",
   "pygments_lexer": "ipython3",
   "version": "3.10.8"
  },
  "orig_nbformat": 4,
  "vscode": {
   "interpreter": {
    "hash": "ac3182ad4c35c580596c20aedb86fbe87b27a45ae94eff4fc998135852ab9989"
   }
  }
 },
 "nbformat": 4,
 "nbformat_minor": 2
}
