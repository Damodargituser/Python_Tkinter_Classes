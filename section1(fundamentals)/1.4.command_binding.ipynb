{
 "cells": [
  {
   "cell_type": "code",
   "execution_count": 3,
   "metadata": {},
   "outputs": [
    {
     "name": "stdout",
     "output_type": "stream",
     "text": [
      "button clicked\n"
     ]
    }
   ],
   "source": [
    "import tkinter as tk\n",
    "from tkinter import ttk\n",
    "from ctypes import windll\n",
    "\n",
    "root = tk.Tk()\n",
    "\n",
    "def handle_click():\n",
    "    print('button clicked')\n",
    "\n",
    "# button = ttk.Button(root,text='post',command=handle_click).pack()\n",
    "\n",
    "# button = ttk.Button()\n",
    "# button['text'] = 'post'\n",
    "# button['command'] = handle_click\n",
    "# button.pack()\n",
    "\n",
    "button = ttk.Button(root)\n",
    "button.config(text='post',command=handle_click)\n",
    "button.pack()\n",
    "\n",
    "\n",
    "try:\n",
    "    windll.shcore.SetProcessDpiAwareness(1)\n",
    "finally:\n",
    "    root.mainloop()\n"
   ]
  },
  {
   "cell_type": "markdown",
   "metadata": {},
   "source": [
    "for multiple command binding"
   ]
  },
  {
   "cell_type": "code",
   "execution_count": 4,
   "metadata": {},
   "outputs": [
    {
     "name": "stdout",
     "output_type": "stream",
     "text": [
      "you clicked ahuti\n",
      "you clicked gandu\n",
      "you clicked rajesh\n"
     ]
    }
   ],
   "source": [
    "import tkinter as tk\n",
    "from tkinter import ttk\n",
    "from ctypes import windll\n",
    "\n",
    "root = tk.Tk()\n",
    "\n",
    "def handle_click(option:str)->str:\n",
    "    print(f'you clicked {option}')\n",
    "\n",
    "ttk.Button(root,text='ahuti',command=lambda:handle_click('ahuti')).pack()\n",
    "ttk.Button(root,text='rajesh',command=lambda:handle_click('rajesh')).pack()\n",
    "ttk.Button(root,text='gandu',command=lambda:handle_click('gandu')).pack()\n",
    "\n",
    "try:\n",
    "    windll.shcore.SetProcessDpiAwareness(1)\n",
    "finally:\n",
    "    root.mainloop()"
   ]
  }
 ],
 "metadata": {
  "kernelspec": {
   "display_name": "Python 3.10.8 64-bit (microsoft store)",
   "language": "python",
   "name": "python3"
  },
  "language_info": {
   "codemirror_mode": {
    "name": "ipython",
    "version": 3
   },
   "file_extension": ".py",
   "mimetype": "text/x-python",
   "name": "python",
   "nbconvert_exporter": "python",
   "pygments_lexer": "ipython3",
   "version": "3.10.8"
  },
  "orig_nbformat": 4,
  "vscode": {
   "interpreter": {
    "hash": "ac3182ad4c35c580596c20aedb86fbe87b27a45ae94eff4fc998135852ab9989"
   }
  }
 },
 "nbformat": 4,
 "nbformat_minor": 2
}
