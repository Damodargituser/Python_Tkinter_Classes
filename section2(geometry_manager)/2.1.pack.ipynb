{
 "cells": [
  {
   "cell_type": "code",
   "execution_count": 4,
   "metadata": {},
   "outputs": [],
   "source": [
    "import tkinter as tk\n",
    "from tkinter import ttk\n",
    "\n",
    "\n",
    "root = tk.Tk()\n",
    "root.title('Tkinter') # add the title to the frame or window\n",
    "root.geometry('400x200') # width and height (width * height)\n",
    "\n",
    "# text1 = ttk.Label(root,text='text1')\n",
    "# text1.pack(ipadx=10, ipady=10)\n",
    "\n",
    "\n",
    "# ttk.Label(root,text='text1').pack()\n",
    "# # ttk.Label(root,text='text1').pack(ipadx=100, ipady=100)\n",
    "# ttk.Label(root,text='text1',background='red',foreground='white').pack(ipadx=10, ipady=10)\n",
    "# ttk.Label(root,text='text2',background='yellow',foreground='red').pack(ipadx=10, ipady=10)\n",
    "# ttk.Label(root,text='text2',background='yellow',foreground='red').pack(ipadx=10, ipady=10,fill=tk.Y)\n",
    "# ttk.Label(root,text='text3',background='yellow',foreground='red').pack(ipadx=10, ipady=10,fill=tk.X)\n",
    "# ttk.Label(root,text='text3',background='yellow',foreground='red').pack(ipadx=10, ipady=10,fill='none',expand=True)\n",
    "# ttk.Label(root,text='text3',background='yellow',foreground='red').pack(ipadx=10, ipady=10,fill='none',expand=False)\n",
    "# ttk.Label(root,text='text3',background='yellow',foreground='red').pack(ipadx=10, ipady=10,fill='none',expand=False,anchor=tk.NE)\n",
    "ttk.Label(root,text='text3',background='yellow',foreground='red').pack(ipadx=10, ipady=10,fill='none',expand=False,anchor=tk.NE,side='left')\n",
    "\n",
    "\n",
    "\n",
    "\n",
    "\n",
    "root.mainloop()"
   ]
  },
  {
   "cell_type": "code",
   "execution_count": 7,
   "metadata": {},
   "outputs": [],
   "source": [
    "import tkinter as tk\n",
    "from tkinter import ttk\n",
    "\n",
    "root = tk.Tk()\n",
    "root.title('Pack Demo')\n",
    "root.geometry(\"350x200\")\n",
    "\n",
    "# box 1\n",
    "ttk.Label(root, text=\"Box 1\", background=\"green\", foreground=\"white\").pack(ipadx=20, ipady=20, fill=tk.BOTH, expand=True, side=tk.LEFT)\n",
    "\n",
    "# box 2\n",
    "ttk.Label(root, text=\"Box 2\", background=\"red\", foreground=\"white\").pack(ipadx=20, ipady=20, fill=tk.BOTH, expand=True, side=tk.RIGHT)\n",
    "\n",
    "root.mainloop()"
   ]
  },
  {
   "cell_type": "code",
   "execution_count": 8,
   "metadata": {},
   "outputs": [],
   "source": [
    "import tkinter as tk\n",
    "from tkinter import ttk\n",
    "\n",
    "root = tk.Tk()\n",
    "root.title('Pack Demo')\n",
    "root.geometry(\"350x200\")\n",
    "\n",
    "# box 1\n",
    "ttk.Label(root, text=\"Box 1\", background=\"green\", foreground=\"white\").pack(ipadx=20, ipady=20, padx=20, pady=20,\n",
    "          fill=tk.BOTH, expand=True)\n",
    "\n",
    "# box 2\n",
    "ttk.Label(root, text=\"Box 2\", background=\"red\", foreground=\"white\").pack(ipadx=20, ipady=20, padx=20, pady=20,\n",
    "          fill=tk.BOTH, expand=True)\n",
    "\n",
    "root.mainloop()"
   ]
  },
  {
   "cell_type": "code",
   "execution_count": 9,
   "metadata": {},
   "outputs": [],
   "source": [
    "import tkinter as tk\n",
    "from tkinter import ttk\n",
    "\n",
    "root = tk.Tk()\n",
    "root.title('Pack Demo')\n",
    "root.geometry(\"300x200\")\n",
    "\n",
    "ipadding:dict = {'ipadx': 10, 'ipady': 10,'padx':10,'pady':10}\n",
    "\n",
    "# place widgets top down\n",
    "ttk.Label(root, text='Box 1', background=\"red\", foreground=\"white\").pack(**ipadding, fill=tk.X)\n",
    "ttk.Label(root, text='Box 2', background=\"green\", foreground=\"white\").pack(**ipadding, fill=tk.X)\n",
    "ttk.Label(root, text='Box 3', background=\"blue\", foreground=\"white\").pack(**ipadding, fill=tk.X)\n",
    "\n",
    "# place widgets side by side\n",
    "ttk.Label(root, text='Left', background=\"cyan\", foreground=\"black\").pack(**ipadding, expand=True, fill=tk.BOTH, side=tk.LEFT)\n",
    "ttk.Label(root, text='Center', background=\"magenta\", foreground=\"black\").pack(**ipadding, expand=True, fill=tk.BOTH, side=tk.LEFT)\n",
    "ttk.Label(root, text='Right', background=\"yellow\", foreground=\"black\").pack(**ipadding, expand=True, fill=tk.BOTH, side=tk.LEFT)\n",
    "\n",
    "root.mainloop()"
   ]
  }
 ],
 "metadata": {
  "kernelspec": {
   "display_name": "Python 3.10.8 64-bit (microsoft store)",
   "language": "python",
   "name": "python3"
  },
  "language_info": {
   "codemirror_mode": {
    "name": "ipython",
    "version": 3
   },
   "file_extension": ".py",
   "mimetype": "text/x-python",
   "name": "python",
   "nbconvert_exporter": "python",
   "pygments_lexer": "ipython3",
   "version": "3.10.8"
  },
  "orig_nbformat": 4,
  "vscode": {
   "interpreter": {
    "hash": "ac3182ad4c35c580596c20aedb86fbe87b27a45ae94eff4fc998135852ab9989"
   }
  }
 },
 "nbformat": 4,
 "nbformat_minor": 2
}
